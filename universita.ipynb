{
 "cells": [
  {
   "cell_type": "markdown",
   "metadata": {},
   "source": [
    "# Obiettivo del Progetto\n",
    "\n",
    "L’obiettivo di questo progetto è valutare le prestazioni di PostgreSQL eseguendo alcune query di selezione, proiezione e join in due configurazioni differenti:\n",
    "\n",
    "1. **Senza indici**: oltre alle chiavi primarie di base.\n",
    "2. **Con indici**: creati ad hoc su determinati campi.\n",
    "\n",
    "Si confronteranno i piani di esecuzione (mediante `EXPLAIN ANALYZE`) e si misureranno, opzionalmente, i blocchi letti/hittati (pin e read) tramite la vista di sistema `pg_stat_database`."
   ]
  },
  {
   "cell_type": "markdown",
   "metadata": {},
   "source": [
    "---\n",
    "### Generazione di Dati Fittizi con Faker\n",
    "\n",
    "In questa sezione, utilizzeremo la libreria Python `faker` per generare dati fittizi. Questo può essere utile per simulare un database o per testare query SQL. Lo script seguente crea un file CSV con dati separati da un delimitatore personalizzato (ad esempio, `|`).\n"
   ]
  },
  {
   "cell_type": "code",
   "execution_count": 1,
   "metadata": {},
   "outputs": [],
   "source": [
    "import psycopg2\n",
    "from faker import Faker\n",
    "import random\n",
    "import subprocess\n",
    "import os"
   ]
  },
  {
   "cell_type": "code",
   "execution_count": 2,
   "metadata": {},
   "outputs": [
    {
     "name": "stdout",
     "output_type": "stream",
     "text": [
      "Current working directory: c:\\Users\\luca-\\OneDrive\\Desktop\\University\\MAGISTRALE\\2_ANNO\\2_SEMESTRE\\Basi_di_Dati_2\\Homeworks\\Progetto1_bd2\n"
     ]
    }
   ],
   "source": [
    "import os\n",
    "import subprocess\n",
    "\n",
    "print(\"Current working directory:\", os.getcwd())\n",
    "\n",
    "def run_sql_script(script_path, db_name, db_user, db_password, db_host=\"localhost\"):\n",
    "    env = os.environ.copy()\n",
    "    env[\"PGPASSWORD\"] = db_password\n",
    "\n",
    "    cmd = [\n",
    "        \"psql\",\n",
    "        \"-U\", db_user,\n",
    "        \"-d\", db_name,\n",
    "        \"-h\", db_host,\n",
    "        \"-f\", script_path\n",
    "    ]\n",
    "    \n",
    "    print(f\"Esecuzione di {script_path}...\")\n",
    "    subprocess.run(cmd, check=True, env=env)\n",
    "    print(f\"{script_path} completato.\\n\")\n",
    "\n",
    "if __name__ == \"__main__\":\n",
    "    # Parametri di connessione\n",
    "    DB_NAME = \"universita\"      # Sostituisci con il nome del tuo database\n",
    "    DB_USER = \"postgres\"      # Sostituisci se necessario\n",
    "    DB_PASSWORD = \"postgres\"  # Sostituisci con la tua password\n",
    "    DB_HOST = \"localhost\"\n",
    "    \n",
    "    # Percorsi dei file SQL (in questo esempio, nella directory corrente)\n",
    "    create_tables_path = os.path.join(os.getcwd(), \"create_tables.sql\")\n",
    "    create_indexes_btree_path = os.path.join(os.getcwd(), \"create_indexes_btree.sql\")\n",
    "    create_indexes_hash_path = os.path.join(os.getcwd(), \"create_indexes_hash.sql\")"
   ]
  },
  {
   "cell_type": "markdown",
   "metadata": {},
   "source": [
    "### Configurazione A senza indici"
   ]
  },
  {
   "cell_type": "code",
   "execution_count": 3,
   "metadata": {},
   "outputs": [
    {
     "name": "stdout",
     "output_type": "stream",
     "text": [
      "Configurazione A: Senza indice\n",
      "Esecuzione di c:\\Users\\luca-\\OneDrive\\Desktop\\University\\MAGISTRALE\\2_ANNO\\2_SEMESTRE\\Basi_di_Dati_2\\Homeworks\\Progetto1_bd2\\create_tables.sql...\n",
      "c:\\Users\\luca-\\OneDrive\\Desktop\\University\\MAGISTRALE\\2_ANNO\\2_SEMESTRE\\Basi_di_Dati_2\\Homeworks\\Progetto1_bd2\\create_tables.sql completato.\n",
      "\n"
     ]
    }
   ],
   "source": [
    "# Per configurazione A (senza indice)\n",
    "print(\"Configurazione A: Senza indice\")\n",
    "run_sql_script(create_tables_path, DB_NAME, DB_USER, DB_PASSWORD, DB_HOST)"
   ]
  },
  {
   "cell_type": "markdown",
   "metadata": {},
   "source": [
    "### Configurazione B (Indice B-Tree su id_corso)"
   ]
  },
  {
   "cell_type": "code",
   "execution_count": 20,
   "metadata": {},
   "outputs": [
    {
     "name": "stdout",
     "output_type": "stream",
     "text": [
      "Configurazione B: Con indice B-Tree\n",
      "Esecuzione di c:\\Users\\luca-\\OneDrive\\Desktop\\University\\MAGISTRALE\\2_ANNO\\2_SEMESTRE\\Basi_di_Dati_2\\Homeworks\\Progetto1_bd2\\create_indexes_btree.sql...\n",
      "c:\\Users\\luca-\\OneDrive\\Desktop\\University\\MAGISTRALE\\2_ANNO\\2_SEMESTRE\\Basi_di_Dati_2\\Homeworks\\Progetto1_bd2\\create_indexes_btree.sql completato.\n",
      "\n"
     ]
    }
   ],
   "source": [
    "# Per configurazione B (con indice B-Tree)\n",
    "print(\"Configurazione B: Con indice B-Tree\")\n",
    "run_sql_script(create_indexes_btree_path, DB_NAME, DB_USER, DB_PASSWORD, DB_HOST)"
   ]
  },
  {
   "cell_type": "markdown",
   "metadata": {},
   "source": [
    "### Configurazione C (Indice Hash su corso)"
   ]
  },
  {
   "cell_type": "code",
   "execution_count": 21,
   "metadata": {},
   "outputs": [
    {
     "name": "stdout",
     "output_type": "stream",
     "text": [
      "Configurazione C: Con indice Hash\n",
      "Esecuzione di c:\\Users\\luca-\\OneDrive\\Desktop\\University\\MAGISTRALE\\2_ANNO\\2_SEMESTRE\\Basi_di_Dati_2\\Homeworks\\Progetto1_bd2\\create_indexes_hash.sql...\n",
      "c:\\Users\\luca-\\OneDrive\\Desktop\\University\\MAGISTRALE\\2_ANNO\\2_SEMESTRE\\Basi_di_Dati_2\\Homeworks\\Progetto1_bd2\\create_indexes_hash.sql completato.\n",
      "\n"
     ]
    }
   ],
   "source": [
    "# poi esegui l'indice Hash:\n",
    "print(\"Configurazione C: Con indice Hash\")\n",
    "run_sql_script(create_indexes_hash_path, DB_NAME, DB_USER, DB_PASSWORD, DB_HOST)"
   ]
  },
  {
   "cell_type": "code",
   "execution_count": 4,
   "metadata": {},
   "outputs": [
    {
     "name": "stdout",
     "output_type": "stream",
     "text": [
      "Popolamento completato!\n"
     ]
    }
   ],
   "source": [
    "\n",
    "# Parametri di connessione al database\n",
    "DB_NAME = \"universita\"\n",
    "DB_USER = \"postgres\"\n",
    "DB_PASSWORD = \"postgres\"\n",
    "DB_HOST = \"localhost\"  # o l'host appropriato\n",
    "\n",
    "fake = Faker()\n",
    "\n",
    "# Dimensioni dei dati\n",
    "N_STUDENTI = 100000\n",
    "N_CORSI = 50000\n",
    "N_ISCRIZIONI = 10000\n",
    "\n",
    "# Connessione al database\n",
    "conn = psycopg2.connect(dbname=DB_NAME, user=DB_USER, password=DB_PASSWORD, host=DB_HOST)\n",
    "cur = conn.cursor()\n",
    "\n",
    "# Svuota le tabelle (se esistono dati)\n",
    "cur.execute(\"TRUNCATE TABLE Iscrizione CASCADE;\")\n",
    "cur.execute(\"TRUNCATE TABLE Corso CASCADE;\")\n",
    "cur.execute(\"TRUNCATE TABLE Studente CASCADE;\")\n",
    "\n",
    "# Popola la tabella Studente\n",
    "for i in range(1, N_STUDENTI + 1):\n",
    "    nome = fake.first_name()\n",
    "    email = fake.email()\n",
    "    indirizzo = fake.address().replace(\"\\n\", \", \")\n",
    "    cur.execute(\n",
    "        \"INSERT INTO Studente (id, nome, email, indirizzo) VALUES (%s, %s, %s, %s);\",\n",
    "        (i, nome, email, indirizzo)\n",
    "    )\n",
    "\n",
    "# Popola la tabella Corso\n",
    "for i in range(1, N_CORSI + 1):\n",
    "    nome_corso = \"Corso_\" + fake.word()\n",
    "    cfu = random.randint(3, 12)\n",
    "    cur.execute(\n",
    "        \"INSERT INTO Corso (id, nome, cfu) VALUES (%s, %s, %s);\",\n",
    "        (i, nome_corso, cfu)\n",
    "    )\n",
    "\n",
    "# Popola la tabella Iscrizione\n",
    "for _ in range(N_ISCRIZIONI):\n",
    "    stud_id = random.randint(1, N_STUDENTI)\n",
    "    corso_id = random.randint(1, N_CORSI)\n",
    "    voto = random.randint(18, 30)\n",
    "    cur.execute(\n",
    "        \"INSERT INTO Iscrizione (studente_id, corso_id, voto) VALUES (%s, %s, %s);\",\n",
    "        (stud_id, corso_id, voto)\n",
    "    )\n",
    "\n",
    "conn.commit()\n",
    "cur.close()\n",
    "conn.close()\n",
    "\n",
    "print(\"Popolamento completato!\")\n"
   ]
  },
  {
   "cell_type": "markdown",
   "metadata": {},
   "source": [
    "## Visualizzazione dati nelle relazioni"
   ]
  },
  {
   "cell_type": "code",
   "execution_count": 5,
   "metadata": {},
   "outputs": [
    {
     "name": "stdout",
     "output_type": "stream",
     "text": [
      "Primi 10 record della tabella Studente:\n",
      "(1, 'Teresa', 'wsmith@example.com', '2475 Thomas Lock, New Kevintown, AR 37617')\n",
      "(2, 'Tiffany', 'cindyrhodes@example.com', '7427 Ramirez Villages, Gordonside, AR 53341')\n",
      "(3, 'Stanley', 'ericwong@example.net', 'PSC 6477, Box 8085, APO AA 88923')\n",
      "(4, 'Kelly', 'gloriapratt@example.com', '52822 Gomez Haven, West Desiree, LA 15016')\n",
      "(5, 'Mike', 'smithmatthew@example.net', '78411 Carlson Creek, Lake Jessica, MS 15786')\n",
      "(6, 'Adam', 'jennifer25@example.net', '884 Carrie Plaza, Maynardport, NH 02765')\n",
      "(7, 'Michael', 'taylormark@example.org', '226 Merritt Plains Apt. 121, South Andrew, ND 24516')\n",
      "(8, 'Jeffrey', 'sharmon@example.net', '8965 Brenda Parkway Apt. 272, South Victorchester, PA 14879')\n",
      "(9, 'Jacqueline', 'seannash@example.net', '07931 Martin Cliff Apt. 962, Cunninghamshire, ND 18234')\n",
      "(10, 'Ashley', 'blevinsjohn@example.org', '19442 Dawn Plaza, Williamborough, HI 27210')\n",
      "\n",
      "\n",
      "Primi 10 record della tabella Corso:\n",
      "(1, 'Corso_every', 11)\n",
      "(2, 'Corso_stand', 7)\n",
      "(3, 'Corso_business', 7)\n",
      "(4, 'Corso_result', 9)\n",
      "(5, 'Corso_anything', 6)\n",
      "(6, 'Corso_away', 4)\n",
      "(7, 'Corso_young', 11)\n",
      "(8, 'Corso_behind', 3)\n",
      "(9, 'Corso_house', 8)\n",
      "(10, 'Corso_the', 5)\n",
      "\n",
      "\n",
      "Primi 10 record della tabella Iscrizione:\n",
      "(1, 22182, 12056, 29)\n",
      "(2, 85791, 13457, 28)\n",
      "(3, 62572, 35155, 26)\n",
      "(4, 22777, 3754, 26)\n",
      "(5, 446, 18610, 19)\n",
      "(6, 20726, 49017, 21)\n",
      "(7, 30584, 22476, 18)\n",
      "(8, 38591, 2901, 23)\n",
      "(9, 18803, 32897, 28)\n",
      "(10, 73433, 5590, 23)\n",
      "\n",
      "\n"
     ]
    }
   ],
   "source": [
    "import psycopg2\n",
    "\n",
    "# Connessione al database\n",
    "conn = psycopg2.connect(dbname=DB_NAME, user=DB_USER, password=DB_PASSWORD, host=DB_HOST)\n",
    "cur = conn.cursor()\n",
    "\n",
    "# Relazioni da visualizzare\n",
    "relazioni = [\"Studente\", \"Corso\", \"Iscrizione\"]\n",
    "\n",
    "for relazione in relazioni:\n",
    "    print(f\"Primi 10 record della tabella {relazione}:\")\n",
    "    cur.execute(f\"SELECT * FROM {relazione} LIMIT 10;\")\n",
    "    records = cur.fetchall()\n",
    "    for record in records:\n",
    "        print(record)\n",
    "    print(\"\\n\")\n",
    "\n",
    "cur.close()\n",
    "conn.close()\n"
   ]
  },
  {
   "cell_type": "markdown",
   "metadata": {},
   "source": [
    "# Parte 2 del Progetto\n",
    "\n",
    "La seconda parte del progetto consiste nel definire ed eseguire le query di test per confrontare i piani di esecuzione e le prestazioni nelle diverse configurazioni (senza indice, con indice B-Tree e con indice Hash)."
   ]
  },
  {
   "cell_type": "markdown",
   "metadata": {},
   "source": [
    "Questa funzione esegue i seguenti passaggi:\n",
    "\n",
    "1. **Drop della tabella esistente**: Se esiste una tabella con lo stesso nome, viene eliminata.\n",
    "2. **Creazione di una nuova tabella**: La tabella viene creata con i valori iniziali di `blks_hit + blks_read` e `blks_read`, letti dalla vista `pg_stat_database`.\n",
    "3. **Esecuzione della query da testare**: La query viene eseguita per misurare le prestazioni.\n",
    "4. **Attesa opzionale**: È possibile inserire un'attesa per stabilizzare le statistiche.\n",
    "5. **Lettura dei valori finali**: I valori finali di `blks_hit` e `blks_read` vengono letti nuovamente da `pg_stat_database`.\n",
    "6. **Calcolo delle differenze**: Viene calcolata la differenza tra i valori iniziali e finali per ottenere i risultati di `pin` (numPin) e `read` (numRead).\n",
    "7. **Stampa dei risultati**: I valori risultanti vengono stampati a schermo.\n",
    "\n",
    "**Nota importante**: Nel comando `WHERE datname LIKE 'postgres'`, sostituisci `'postgres'` con il nome del database che stai utilizzando (ad esempio, `'universita'` se il tuo database si chiama “universita”).\n"
   ]
  },
  {
   "cell_type": "code",
   "execution_count": 6,
   "metadata": {},
   "outputs": [],
   "source": [
    "import psycopg2\n",
    "import time\n",
    "\n",
    "def test_query(query, db_name=\"universita\", user=\"postgres\", password=\"postgres\", host=\"localhost\"):\n",
    "    \"\"\"\n",
    "    Esegue la query 'query' e mostra il numero di pin e letture fisiche \n",
    "    dovute a quella query, calcolate dalla differenza in pg_stat_database.\n",
    "    \"\"\"\n",
    "    conn = psycopg2.connect(dbname=db_name, user=user, password=password, host=host)\n",
    "    cur = conn.cursor()\n",
    "    \n",
    "    # 1) Rimuove la tabella temporanea 'prima' se già esiste\n",
    "    # 2) Seleziona i valori attuali di blks_hit e blks_read e li inserisce in 'prima'\n",
    "    cur.execute(f\"\"\"\n",
    "        DROP TABLE IF EXISTS prima CASCADE;\n",
    "        SELECT blks_hit + blks_read AS numPin, \n",
    "               blks_read AS numRead\n",
    "        INTO prima\n",
    "        FROM pg_stat_database\n",
    "        WHERE datname LIKE '{db_name}';\n",
    "    \"\"\")\n",
    "    conn.commit()\n",
    "    \n",
    "    # 3) Esegue la query di test\n",
    "    cur.execute(query)\n",
    "    # Se la query restituisce dati (es: SELECT), li leggiamo per completare\n",
    "    try:\n",
    "        _ = cur.fetchall()\n",
    "    except:\n",
    "        pass\n",
    "    \n",
    "    conn.commit()\n",
    "    \n",
    "    # 4) (Opzionale) attende qualche secondo\n",
    "    time.sleep(2)\n",
    "    \n",
    "    # 5) Calcola la differenza con i nuovi valori di pg_stat_database\n",
    "    #    (dopo la query)\n",
    "    cur.execute(f\"\"\"\n",
    "        SELECT \n",
    "          ((dopo.blks_hit + dopo.blks_read) - prima.numPin) AS numPin,\n",
    "          (dopo.blks_read - prima.numRead) AS numRead\n",
    "        FROM pg_stat_database AS dopo, prima\n",
    "        WHERE dopo.datname LIKE '{db_name}';\n",
    "    \"\"\")\n",
    "    conn.commit()\n",
    "    \n",
    "    results = cur.fetchall()  # Esempio: [(150, 12)]\n",
    "    cur.close()\n",
    "    conn.close()\n",
    "    \n",
    "    # 6) Stampa i risultati\n",
    "    #    results è una lista di tuple, es. [(numPin, numRead)]\n",
    "    if results:\n",
    "        num_pin, num_read = results[0]\n",
    "        print(f\"Query eseguita: {query.strip()}\")\n",
    "        print(f\"  --> Num Pin: {num_pin}, Num Read: {num_read}\\n\")\n",
    "    else:\n",
    "        print(\"Nessun risultato calcolato.\")\n",
    "\n"
   ]
  },
  {
   "cell_type": "code",
   "execution_count": 33,
   "metadata": {},
   "outputs": [
    {
     "name": "stdout",
     "output_type": "stream",
     "text": [
      "Query eseguita: EXPLAIN ANALYZE\n",
      "SELECT nome, email\n",
      "FROM Studente\n",
      "WHERE id = 500;\n",
      "  --> Num Pin: 0, Num Read: 0\n",
      "\n",
      "Query eseguita: EXPLAIN ANALYZE\n",
      "SELECT SUM(C.cfu) AS somma_cfu\n",
      "FROM Iscrizione I\n",
      "JOIN Corso C ON I.corso_id = C.id\n",
      "WHERE I.voto > 25;\n",
      "  --> Num Pin: 0, Num Read: 0\n",
      "\n",
      "Query eseguita: EXPLAIN ANALYZE\n",
      "SELECT *\n",
      "FROM Iscrizione\n",
      "WHERE corso_id = 1234;\n",
      "  --> Num Pin: 0, Num Read: 0\n",
      "\n"
     ]
    }
   ],
   "source": [
    "# Parametri di connessione\n",
    "DB_NAME = \"universita\"   # o \"postgres\", se il DB si chiama così\n",
    "DB_USER = \"postgres\"\n",
    "DB_PASSWORD = \"postgres\"\n",
    "DB_HOST = \"localhost\"\n",
    "\n",
    "# Definizione delle query\n",
    "q1 = \"\"\"\n",
    "EXPLAIN ANALYZE\n",
    "SELECT nome, email\n",
    "FROM Studente\n",
    "WHERE id = 500;\n",
    "\"\"\"\n",
    "\n",
    "q2 = \"\"\"\n",
    "EXPLAIN ANALYZE\n",
    "SELECT SUM(C.cfu) AS somma_cfu\n",
    "FROM Iscrizione I\n",
    "JOIN Corso C ON I.corso_id = C.id\n",
    "WHERE I.voto > 25;\n",
    "\"\"\"\n",
    "\n",
    "q3 = \"\"\"\n",
    "EXPLAIN ANALYZE\n",
    "SELECT *\n",
    "FROM Iscrizione\n",
    "WHERE corso_id = 1234;\n",
    "\"\"\"\n",
    "\n",
    "# Esegui i test\n",
    "test_query(q1, db_name=DB_NAME, user=DB_USER, password=DB_PASSWORD, host=DB_HOST)\n",
    "test_query(q2, db_name=DB_NAME, user=DB_USER, password=DB_PASSWORD, host=DB_HOST)\n",
    "test_query(q3, db_name=DB_NAME, user=DB_USER, password=DB_PASSWORD, host=DB_HOST)"
   ]
  }
 ],
 "metadata": {
  "kernelspec": {
   "display_name": ".venv",
   "language": "python",
   "name": "python3"
  },
  "language_info": {
   "codemirror_mode": {
    "name": "ipython",
    "version": 3
   },
   "file_extension": ".py",
   "mimetype": "text/x-python",
   "name": "python",
   "nbconvert_exporter": "python",
   "pygments_lexer": "ipython3",
   "version": "3.12.4"
  }
 },
 "nbformat": 4,
 "nbformat_minor": 2
}
